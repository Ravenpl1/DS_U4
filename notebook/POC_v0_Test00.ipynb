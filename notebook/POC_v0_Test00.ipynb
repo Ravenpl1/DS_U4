{
 "cells": [
  {
   "cell_type": "markdown",
   "id": "3c444a88",
   "metadata": {},
   "source": [
    "Импортируем модули."
   ]
  },
  {
   "cell_type": "code",
   "execution_count": 111,
   "id": "864999af",
   "metadata": {},
   "outputs": [],
   "source": [
    "import os\n",
    "import copy\n",
    "import numpy as np\n",
    "import pandas as pd\n",
    "import itertools\n",
    "import matplotlib.pyplot as plt\n",
    "import seaborn as sns\n",
    "from sklearn import preprocessing\n",
    "from sklearn import tree\n",
    "from sklearn.model_selection import train_test_split\n",
    "from sklearn.model_selection import cross_val_score\n",
    "from sklearn.linear_model import LinearRegression # +\n",
    "from sklearn.linear_model import Ridge # +\n",
    "from sklearn.linear_model import Lasso # +\n",
    "from sklearn.linear_model import LassoLars # +\n",
    "from sklearn.linear_model import MultiTaskLasso # +\n",
    "from sklearn.linear_model import ElasticNet # +\n",
    "from sklearn.linear_model import Perceptron # -\n",
    "from sklearn.neural_network import MLPRegressor # +\n",
    "from sklearn.neighbors import KNeighborsRegressor # +\n",
    "from sklearn.tree import DecisionTreeRegressor # +\n",
    "from sklearn.svm import SVR # + только для 1 y\n",
    "from sklearn.svm import LinearSVR # + только для 1 y\n",
    "from sklearn.ensemble import RandomForestRegressor # +?\n",
    "from sklearn.ensemble import BaggingRegressor # +?\n",
    "from sklearn.ensemble import AdaBoostRegressor # +?"
   ]
  },
  {
   "cell_type": "markdown",
   "id": "761f7729",
   "metadata": {},
   "source": [
    "Импортируем датасеты (X_bp.xlsx, X_nup.xlsx) и объединяем используя INNER."
   ]
  },
  {
   "cell_type": "code",
   "execution_count": 2,
   "id": "cdf0c5d5",
   "metadata": {},
   "outputs": [],
   "source": [
    "x_bp_df = pd.read_excel('../data/X_bp.xlsx', sheet_name='X_bp.csv')\n",
    "x_nup_df = pd.read_excel('../data/X_nup.xlsx', sheet_name='X_nup.csv')\n",
    "bp_nup_df = x_bp_df.merge(x_nup_df, left_index=True, right_index=True, how='inner')"
   ]
  },
  {
   "cell_type": "markdown",
   "id": "24b9950f",
   "metadata": {},
   "source": [
    "Удаляем лишние колонки - индексы датасетов"
   ]
  },
  {
   "cell_type": "code",
   "execution_count": 3,
   "id": "f2028919",
   "metadata": {},
   "outputs": [],
   "source": [
    "bp_nup_df.drop(columns = ['Unnamed: 0_x', 'Unnamed: 0_y'],axis = 1, inplace=True)"
   ]
  },
  {
   "cell_type": "code",
   "execution_count": 4,
   "id": "afa9088b",
   "metadata": {},
   "outputs": [
    {
     "data": {
      "text/html": [
       "<div>\n",
       "<style scoped>\n",
       "    .dataframe tbody tr th:only-of-type {\n",
       "        vertical-align: middle;\n",
       "    }\n",
       "\n",
       "    .dataframe tbody tr th {\n",
       "        vertical-align: top;\n",
       "    }\n",
       "\n",
       "    .dataframe thead th {\n",
       "        text-align: right;\n",
       "    }\n",
       "</style>\n",
       "<table border=\"1\" class=\"dataframe\">\n",
       "  <thead>\n",
       "    <tr style=\"text-align: right;\">\n",
       "      <th></th>\n",
       "      <th>Соотношение матрица-наполнитель</th>\n",
       "      <th>Плотность, кг/м3</th>\n",
       "      <th>модуль упругости, ГПа</th>\n",
       "      <th>Количество отвердителя, м.%</th>\n",
       "      <th>Содержание эпоксидных групп,%_2</th>\n",
       "      <th>Температура вспышки, С_2</th>\n",
       "      <th>Поверхностная плотность, г/м2</th>\n",
       "      <th>Модуль упругости при растяжении, ГПа</th>\n",
       "      <th>Прочность при растяжении, МПа</th>\n",
       "      <th>Потребление смолы, г/м2</th>\n",
       "      <th>Угол нашивки, град</th>\n",
       "      <th>Шаг нашивки</th>\n",
       "      <th>Плотность нашивки</th>\n",
       "    </tr>\n",
       "  </thead>\n",
       "  <tbody>\n",
       "    <tr>\n",
       "      <th>0</th>\n",
       "      <td>1.857143</td>\n",
       "      <td>2030.0</td>\n",
       "      <td>738.736842</td>\n",
       "      <td>30.00</td>\n",
       "      <td>22.267857</td>\n",
       "      <td>100.000000</td>\n",
       "      <td>210.0</td>\n",
       "      <td>70.0</td>\n",
       "      <td>3000.0</td>\n",
       "      <td>220.0</td>\n",
       "      <td>0.0</td>\n",
       "      <td>4.0</td>\n",
       "      <td>57.0</td>\n",
       "    </tr>\n",
       "    <tr>\n",
       "      <th>1</th>\n",
       "      <td>1.857143</td>\n",
       "      <td>2030.0</td>\n",
       "      <td>738.736842</td>\n",
       "      <td>50.00</td>\n",
       "      <td>23.750000</td>\n",
       "      <td>284.615385</td>\n",
       "      <td>210.0</td>\n",
       "      <td>70.0</td>\n",
       "      <td>3000.0</td>\n",
       "      <td>220.0</td>\n",
       "      <td>0.0</td>\n",
       "      <td>4.0</td>\n",
       "      <td>60.0</td>\n",
       "    </tr>\n",
       "    <tr>\n",
       "      <th>2</th>\n",
       "      <td>1.857143</td>\n",
       "      <td>2030.0</td>\n",
       "      <td>738.736842</td>\n",
       "      <td>49.90</td>\n",
       "      <td>33.000000</td>\n",
       "      <td>284.615385</td>\n",
       "      <td>210.0</td>\n",
       "      <td>70.0</td>\n",
       "      <td>3000.0</td>\n",
       "      <td>220.0</td>\n",
       "      <td>0.0</td>\n",
       "      <td>4.0</td>\n",
       "      <td>70.0</td>\n",
       "    </tr>\n",
       "    <tr>\n",
       "      <th>3</th>\n",
       "      <td>1.857143</td>\n",
       "      <td>2030.0</td>\n",
       "      <td>738.736842</td>\n",
       "      <td>129.00</td>\n",
       "      <td>21.250000</td>\n",
       "      <td>300.000000</td>\n",
       "      <td>210.0</td>\n",
       "      <td>70.0</td>\n",
       "      <td>3000.0</td>\n",
       "      <td>220.0</td>\n",
       "      <td>0.0</td>\n",
       "      <td>5.0</td>\n",
       "      <td>47.0</td>\n",
       "    </tr>\n",
       "    <tr>\n",
       "      <th>4</th>\n",
       "      <td>2.771331</td>\n",
       "      <td>2030.0</td>\n",
       "      <td>753.000000</td>\n",
       "      <td>111.86</td>\n",
       "      <td>22.267857</td>\n",
       "      <td>284.615385</td>\n",
       "      <td>210.0</td>\n",
       "      <td>70.0</td>\n",
       "      <td>3000.0</td>\n",
       "      <td>220.0</td>\n",
       "      <td>0.0</td>\n",
       "      <td>5.0</td>\n",
       "      <td>57.0</td>\n",
       "    </tr>\n",
       "  </tbody>\n",
       "</table>\n",
       "</div>"
      ],
      "text/plain": [
       "   Соотношение матрица-наполнитель  Плотность, кг/м3  модуль упругости, ГПа  \\\n",
       "0                         1.857143            2030.0             738.736842   \n",
       "1                         1.857143            2030.0             738.736842   \n",
       "2                         1.857143            2030.0             738.736842   \n",
       "3                         1.857143            2030.0             738.736842   \n",
       "4                         2.771331            2030.0             753.000000   \n",
       "\n",
       "   Количество отвердителя, м.%  Содержание эпоксидных групп,%_2  \\\n",
       "0                        30.00                        22.267857   \n",
       "1                        50.00                        23.750000   \n",
       "2                        49.90                        33.000000   \n",
       "3                       129.00                        21.250000   \n",
       "4                       111.86                        22.267857   \n",
       "\n",
       "   Температура вспышки, С_2  Поверхностная плотность, г/м2  \\\n",
       "0                100.000000                          210.0   \n",
       "1                284.615385                          210.0   \n",
       "2                284.615385                          210.0   \n",
       "3                300.000000                          210.0   \n",
       "4                284.615385                          210.0   \n",
       "\n",
       "   Модуль упругости при растяжении, ГПа  Прочность при растяжении, МПа  \\\n",
       "0                                  70.0                         3000.0   \n",
       "1                                  70.0                         3000.0   \n",
       "2                                  70.0                         3000.0   \n",
       "3                                  70.0                         3000.0   \n",
       "4                                  70.0                         3000.0   \n",
       "\n",
       "   Потребление смолы, г/м2  Угол нашивки, град  Шаг нашивки  Плотность нашивки  \n",
       "0                    220.0                 0.0          4.0               57.0  \n",
       "1                    220.0                 0.0          4.0               60.0  \n",
       "2                    220.0                 0.0          4.0               70.0  \n",
       "3                    220.0                 0.0          5.0               47.0  \n",
       "4                    220.0                 0.0          5.0               57.0  "
      ]
     },
     "execution_count": 4,
     "metadata": {},
     "output_type": "execute_result"
    }
   ],
   "source": [
    "bp_nup_df.head(5)"
   ]
  },
  {
   "cell_type": "markdown",
   "id": "6b24d2da",
   "metadata": {},
   "source": [
    "### Производим классификацию:"
   ]
  },
  {
   "cell_type": "markdown",
   "id": "a61338cc",
   "metadata": {},
   "source": [
    "Смотрим данные в исходных датасетах."
   ]
  },
  {
   "cell_type": "code",
   "execution_count": 5,
   "id": "458ed5b3",
   "metadata": {},
   "outputs": [],
   "source": [
    "bp_nup_df['Угол нашивки, град'] = preprocessing.LabelEncoder().fit_transform(bp_nup_df['Угол нашивки, град'])"
   ]
  },
  {
   "cell_type": "code",
   "execution_count": 6,
   "id": "31f0568e",
   "metadata": {},
   "outputs": [
    {
     "data": {
      "text/plain": [
       "['Соотношение матрица-наполнитель',\n",
       " 'Плотность, кг/м3',\n",
       " 'модуль упругости, ГПа',\n",
       " 'Количество отвердителя, м.%',\n",
       " 'Содержание эпоксидных групп,%_2',\n",
       " 'Температура вспышки, С_2',\n",
       " 'Поверхностная плотность, г/м2',\n",
       " 'Модуль упругости при растяжении, ГПа',\n",
       " 'Прочность при растяжении, МПа',\n",
       " 'Потребление смолы, г/м2',\n",
       " 'Угол нашивки, град',\n",
       " 'Шаг нашивки',\n",
       " 'Плотность нашивки']"
      ]
     },
     "execution_count": 6,
     "metadata": {},
     "output_type": "execute_result"
    }
   ],
   "source": [
    "list(bp_nup_df.columns)"
   ]
  },
  {
   "cell_type": "code",
   "execution_count": 7,
   "id": "62473946",
   "metadata": {},
   "outputs": [],
   "source": [
    "df_std_scaler = preprocessing.StandardScaler().fit_transform(bp_nup_df)\n",
    "df_std_scaler = pd.DataFrame(df_std_scaler, columns = list(bp_nup_df.columns))"
   ]
  },
  {
   "cell_type": "code",
   "execution_count": 8,
   "id": "9b6bef54",
   "metadata": {},
   "outputs": [
    {
     "data": {
      "text/html": [
       "<div>\n",
       "<style scoped>\n",
       "    .dataframe tbody tr th:only-of-type {\n",
       "        vertical-align: middle;\n",
       "    }\n",
       "\n",
       "    .dataframe tbody tr th {\n",
       "        vertical-align: top;\n",
       "    }\n",
       "\n",
       "    .dataframe thead th {\n",
       "        text-align: right;\n",
       "    }\n",
       "</style>\n",
       "<table border=\"1\" class=\"dataframe\">\n",
       "  <thead>\n",
       "    <tr style=\"text-align: right;\">\n",
       "      <th></th>\n",
       "      <th>Соотношение матрица-наполнитель</th>\n",
       "      <th>Плотность, кг/м3</th>\n",
       "      <th>модуль упругости, ГПа</th>\n",
       "      <th>Количество отвердителя, м.%</th>\n",
       "      <th>Содержание эпоксидных групп,%_2</th>\n",
       "      <th>Температура вспышки, С_2</th>\n",
       "      <th>Поверхностная плотность, г/м2</th>\n",
       "      <th>Модуль упругости при растяжении, ГПа</th>\n",
       "      <th>Прочность при растяжении, МПа</th>\n",
       "      <th>Потребление смолы, г/м2</th>\n",
       "      <th>Угол нашивки, град</th>\n",
       "      <th>Шаг нашивки</th>\n",
       "      <th>Плотность нашивки</th>\n",
       "    </tr>\n",
       "  </thead>\n",
       "  <tbody>\n",
       "    <tr>\n",
       "      <th>0</th>\n",
       "      <td>-1.175779</td>\n",
       "      <td>0.736365</td>\n",
       "      <td>-0.003594</td>\n",
       "      <td>-2.848828</td>\n",
       "      <td>0.009757</td>\n",
       "      <td>-4.542215</td>\n",
       "      <td>-0.969964</td>\n",
       "      <td>-1.06772</td>\n",
       "      <td>1.098244</td>\n",
       "      <td>0.02641</td>\n",
       "      <td>-0.983518</td>\n",
       "      <td>-1.131530</td>\n",
       "      <td>-0.012469</td>\n",
       "    </tr>\n",
       "    <tr>\n",
       "      <th>1</th>\n",
       "      <td>-1.175779</td>\n",
       "      <td>0.736365</td>\n",
       "      <td>-0.003594</td>\n",
       "      <td>-2.141666</td>\n",
       "      <td>0.626001</td>\n",
       "      <td>-0.030955</td>\n",
       "      <td>-0.969964</td>\n",
       "      <td>-1.06772</td>\n",
       "      <td>1.098244</td>\n",
       "      <td>0.02641</td>\n",
       "      <td>-0.983518</td>\n",
       "      <td>-1.131530</td>\n",
       "      <td>0.230546</td>\n",
       "    </tr>\n",
       "    <tr>\n",
       "      <th>2</th>\n",
       "      <td>-1.175779</td>\n",
       "      <td>0.736365</td>\n",
       "      <td>-0.003594</td>\n",
       "      <td>-2.145202</td>\n",
       "      <td>4.471955</td>\n",
       "      <td>-0.030955</td>\n",
       "      <td>-0.969964</td>\n",
       "      <td>-1.06772</td>\n",
       "      <td>1.098244</td>\n",
       "      <td>0.02641</td>\n",
       "      <td>-0.983518</td>\n",
       "      <td>-1.131530</td>\n",
       "      <td>1.040595</td>\n",
       "    </tr>\n",
       "    <tr>\n",
       "      <th>3</th>\n",
       "      <td>-1.175779</td>\n",
       "      <td>0.736365</td>\n",
       "      <td>-0.003594</td>\n",
       "      <td>0.651622</td>\n",
       "      <td>-0.413446</td>\n",
       "      <td>0.344984</td>\n",
       "      <td>-0.969964</td>\n",
       "      <td>-1.06772</td>\n",
       "      <td>1.098244</td>\n",
       "      <td>0.02641</td>\n",
       "      <td>-0.983518</td>\n",
       "      <td>-0.741243</td>\n",
       "      <td>-0.822518</td>\n",
       "    </tr>\n",
       "    <tr>\n",
       "      <th>4</th>\n",
       "      <td>-0.174232</td>\n",
       "      <td>0.736365</td>\n",
       "      <td>0.039618</td>\n",
       "      <td>0.045585</td>\n",
       "      <td>0.009757</td>\n",
       "      <td>-0.030955</td>\n",
       "      <td>-0.969964</td>\n",
       "      <td>-1.06772</td>\n",
       "      <td>1.098244</td>\n",
       "      <td>0.02641</td>\n",
       "      <td>-0.983518</td>\n",
       "      <td>-0.741243</td>\n",
       "      <td>-0.012469</td>\n",
       "    </tr>\n",
       "  </tbody>\n",
       "</table>\n",
       "</div>"
      ],
      "text/plain": [
       "   Соотношение матрица-наполнитель  Плотность, кг/м3  модуль упругости, ГПа  \\\n",
       "0                        -1.175779          0.736365              -0.003594   \n",
       "1                        -1.175779          0.736365              -0.003594   \n",
       "2                        -1.175779          0.736365              -0.003594   \n",
       "3                        -1.175779          0.736365              -0.003594   \n",
       "4                        -0.174232          0.736365               0.039618   \n",
       "\n",
       "   Количество отвердителя, м.%  Содержание эпоксидных групп,%_2  \\\n",
       "0                    -2.848828                         0.009757   \n",
       "1                    -2.141666                         0.626001   \n",
       "2                    -2.145202                         4.471955   \n",
       "3                     0.651622                        -0.413446   \n",
       "4                     0.045585                         0.009757   \n",
       "\n",
       "   Температура вспышки, С_2  Поверхностная плотность, г/м2  \\\n",
       "0                 -4.542215                      -0.969964   \n",
       "1                 -0.030955                      -0.969964   \n",
       "2                 -0.030955                      -0.969964   \n",
       "3                  0.344984                      -0.969964   \n",
       "4                 -0.030955                      -0.969964   \n",
       "\n",
       "   Модуль упругости при растяжении, ГПа  Прочность при растяжении, МПа  \\\n",
       "0                              -1.06772                       1.098244   \n",
       "1                              -1.06772                       1.098244   \n",
       "2                              -1.06772                       1.098244   \n",
       "3                              -1.06772                       1.098244   \n",
       "4                              -1.06772                       1.098244   \n",
       "\n",
       "   Потребление смолы, г/м2  Угол нашивки, град  Шаг нашивки  Плотность нашивки  \n",
       "0                  0.02641           -0.983518    -1.131530          -0.012469  \n",
       "1                  0.02641           -0.983518    -1.131530           0.230546  \n",
       "2                  0.02641           -0.983518    -1.131530           1.040595  \n",
       "3                  0.02641           -0.983518    -0.741243          -0.822518  \n",
       "4                  0.02641           -0.983518    -0.741243          -0.012469  "
      ]
     },
     "execution_count": 8,
     "metadata": {},
     "output_type": "execute_result"
    }
   ],
   "source": [
    "df_std_scaler.head(5)"
   ]
  },
  {
   "cell_type": "code",
   "execution_count": 102,
   "id": "499279dd",
   "metadata": {},
   "outputs": [],
   "source": [
    "data_columns = ['Соотношение матрица-наполнитель', 'Плотность, кг/м3', 'модуль упругости, ГПа', 'Количество отвердителя, м.%',\n",
    "            'Содержание эпоксидных групп,%_2', 'Температура вспышки, С_2', 'Поверхностная плотность, г/м2',\n",
    "            'Модуль упругости при растяжении, ГПа', 'Прочность при растяжении, МПа', 'Потребление смолы, г/м2',\n",
    "            'Угол нашивки, град', 'Шаг нашивки', 'Плотность нашивки']\n",
    "target = ['Модуль упругости при растяжении, ГПа', 'Прочность при растяжении, МПа']\n",
    "\n",
    "tdata_columns = ['Соотношение матрица-наполнитель', 'Плотность, кг/м3', 'модуль упругости, ГПа', 'Количество отвердителя, м.%',\n",
    "            'Содержание эпоксидных групп,%_2', 'Температура вспышки, С_2', 'Поверхностная плотность, г/м2',\n",
    "            'Прочность при растяжении, МПа', 'Потребление смолы, г/м2',\n",
    "            'Угол нашивки, град', 'Шаг нашивки', 'Плотность нашивки']\n",
    "ttarget = ['Модуль упругости при растяжении, ГПа']\n",
    "\n",
    "ttdata_columns = ['Соотношение матрица-наполнитель', 'Плотность, кг/м3', 'модуль упругости, ГПа', 'Количество отвердителя, м.%',\n",
    "            'Содержание эпоксидных групп,%_2', 'Температура вспышки, С_2', 'Поверхностная плотность, г/м2',\n",
    "            'Потребление смолы, г/м2',\n",
    "            'Угол нашивки, град', 'Шаг нашивки', 'Плотность нашивки']\n",
    "tttarget = ['Модуль упругости при растяжении, ГПа', 'Прочность при растяжении, МПа']"
   ]
  },
  {
   "cell_type": "code",
   "execution_count": 10,
   "id": "18ae34b0",
   "metadata": {},
   "outputs": [],
   "source": [
    "df_class1 = df_std_scaler[(df_std_scaler['Угол нашивки, град'] >= 0) & (df_std_scaler['Угол нашивки, град'] < 1)]"
   ]
  },
  {
   "cell_type": "code",
   "execution_count": 11,
   "id": "c921a8d8",
   "metadata": {},
   "outputs": [],
   "source": [
    "df_class2 = df_std_scaler[df_std_scaler['Угол нашивки, град'] >= 1]"
   ]
  },
  {
   "cell_type": "code",
   "execution_count": 12,
   "id": "1a9f0eb2",
   "metadata": {},
   "outputs": [],
   "source": [
    "def issl(df, data, target, tmodel):\n",
    "    combinations_data = []\n",
    "    combinations_target = []\n",
    "    matrix = pd.DataFrame()\n",
    "    \n",
    "    if isinstance(df, pd.DataFrame):\n",
    "        cols_data = tuple(set(data) - set(target))\n",
    "        cols_target = target\n",
    "    else:\n",
    "        raise ValueError(\"Входные данные должны быть в формате pd.DataFrame\")\n",
    "    \n",
    "    for _ in range(1,len(cols_data)+1):\n",
    "        comb_list = list(itertools.combinations(range(len(cols_data)), _))\n",
    "        combinations_data.append(comb_list)\n",
    "    \n",
    "    for _ in range(1,len(cols_target)+1):\n",
    "        comb_list = list(itertools.combinations(range(len(cols_target)), _))\n",
    "        combinations_target.append(comb_list)\n",
    "    \n",
    "    s = [item for sublist in combinations_target for item in sublist]\n",
    "    s2 = [item for sublist in combinations_data for item in sublist]\n",
    "    \n",
    "    for i in s:\n",
    "        cols_for_y = [cols_target[i[x]] for x in range(len(i))]\n",
    "        str_cols_y = '///'.join(cols_for_y)\n",
    "        matrix[str_cols_y] = ''\n",
    "        for j in s2:\n",
    "            cols_for_x = [cols_data[j[x]] for x in range(len(j))]\n",
    "            str_cols_x = '///'.join(cols_for_x)\n",
    "            matrix.loc[str_cols_x] = ''\n",
    "    \n",
    "    for i in s:\n",
    "        cols_for_y = [cols_target[i[x]] for x in range(len(i))]\n",
    "        str_cols_y = '///'.join(cols_for_y)\n",
    "        y = df[cols_for_y]\n",
    "        for j in s2:\n",
    "            cols_for_x = [cols_data[j[x]] for x in range(len(j))]\n",
    "            str_cols_x = '///'.join(cols_for_x)\n",
    "            X = df[cols_for_x]\n",
    "            X_train, X_test, y_train, y_test = train_test_split(X, y, train_size=0.7, random_state=5)\n",
    "            model =  tmodel\n",
    "            model.fit(X_train, y_train)\n",
    "            matrix.loc[[str_cols_x], [str_cols_y]] = model.score(X_test, y_test)\n",
    "\n",
    "    return matrix"
   ]
  },
  {
   "cell_type": "code",
   "execution_count": 114,
   "id": "e4f5d813",
   "metadata": {},
   "outputs": [
    {
     "name": "stderr",
     "output_type": "stream",
     "text": [
      "d:\\prj\\mgtu_ds_u4\\venv\\lib\\site-packages\\sklearn\\neural_network\\_multilayer_perceptron.py:1599: DataConversionWarning: A column-vector y was passed when a 1d array was expected. Please change the shape of y to (n_samples, ), for example using ravel().\n",
      "  y = column_or_1d(y, warn=True)\n",
      "d:\\prj\\mgtu_ds_u4\\venv\\lib\\site-packages\\sklearn\\neural_network\\_multilayer_perceptron.py:692: ConvergenceWarning: Stochastic Optimizer: Maximum iterations (1100) reached and the optimization hasn't converged yet.\n",
      "  warnings.warn(\n"
     ]
    },
    {
     "data": {
      "text/plain": [
       "-1.0407323532337545"
      ]
     },
     "execution_count": 114,
     "metadata": {},
     "output_type": "execute_result"
    }
   ],
   "source": [
    "# MLPRegressor(max_iter=1100)\n",
    "XT = df_std_scaler[tdata_columns]\n",
    "yt = df_std_scaler[ttarget]\n",
    "XT_train, XT_test, yt_train, yt_test = train_test_split(XT, yt, train_size=0.7, random_state=42)\n",
    "model_test = MLPRegressor(max_iter=1100)\n",
    "model_test.fit(XT_train, yt_train) # values.ravel()\n",
    "model_test.score(XT_test, yt_test)\n",
    "#yt_test.head(5)"
   ]
  },
  {
   "cell_type": "code",
   "execution_count": 106,
   "id": "a3462ead",
   "metadata": {},
   "outputs": [
    {
     "data": {
      "text/html": [
       "<div>\n",
       "<style scoped>\n",
       "    .dataframe tbody tr th:only-of-type {\n",
       "        vertical-align: middle;\n",
       "    }\n",
       "\n",
       "    .dataframe tbody tr th {\n",
       "        vertical-align: top;\n",
       "    }\n",
       "\n",
       "    .dataframe thead th {\n",
       "        text-align: right;\n",
       "    }\n",
       "</style>\n",
       "<table border=\"1\" class=\"dataframe\">\n",
       "  <thead>\n",
       "    <tr style=\"text-align: right;\">\n",
       "      <th></th>\n",
       "      <th>Модуль упругости при растяжении, ГПа</th>\n",
       "      <th>Прочность при растяжении, МПа</th>\n",
       "      <th>Модуль упругости при растяжении, ГПа///Прочность при растяжении, МПа</th>\n",
       "    </tr>\n",
       "  </thead>\n",
       "  <tbody>\n",
       "    <tr>\n",
       "      <th>Угол нашивки, град</th>\n",
       "      <td>-0.003303</td>\n",
       "      <td>-0.02219</td>\n",
       "      <td>-0.012746</td>\n",
       "    </tr>\n",
       "  </tbody>\n",
       "</table>\n",
       "</div>"
      ],
      "text/plain": [
       "                   Модуль упругости при растяжении, ГПа  \\\n",
       "Угол нашивки, град                            -0.003303   \n",
       "\n",
       "                   Прочность при растяжении, МПа  \\\n",
       "Угол нашивки, град                      -0.02219   \n",
       "\n",
       "                   Модуль упругости при растяжении, ГПа///Прочность при растяжении, МПа  \n",
       "Угол нашивки, град                                          -0.012746                    "
      ]
     },
     "execution_count": 106,
     "metadata": {},
     "output_type": "execute_result"
    }
   ],
   "source": [
    "# DecisionTreeRegressor()\n",
    "# KNeighborsRegressor(n_neighbors=3)\n",
    "# Ridge(alpha=.5)\n",
    "# LinearRegression()\n",
    "# LassoLars(alpha=.1, normalize=False)\n",
    "# MultiTaskLasso(alpha=1.0)\n",
    "# ElasticNet(alpha=0.1, l1_ratio=0.7)\n",
    "# \n",
    "lr = issl(df_std_scaler, data_columns, target, LinearRegression())\n",
    "lr.head(1)"
   ]
  },
  {
   "cell_type": "code",
   "execution_count": 43,
   "id": "1affb1ab",
   "metadata": {},
   "outputs": [
    {
     "data": {
      "text/plain": [
       "-0.022143348681078923"
      ]
     },
     "execution_count": 43,
     "metadata": {},
     "output_type": "execute_result"
    }
   ],
   "source": [
    "lr['Прочность при растяжении, МПа'].min()"
   ]
  },
  {
   "cell_type": "code",
   "execution_count": 48,
   "id": "5d06d1d3",
   "metadata": {},
   "outputs": [
    {
     "data": {
      "text/plain": [
       "2047"
      ]
     },
     "execution_count": 48,
     "metadata": {},
     "output_type": "execute_result"
    }
   ],
   "source": [
    "len(lr.index)"
   ]
  },
  {
   "cell_type": "code",
   "execution_count": null,
   "id": "e5b682eb",
   "metadata": {},
   "outputs": [],
   "source": [
    "lr.loc['Угол нашивки, град', 'Модуль упругости при растяжении, ГПа']"
   ]
  },
  {
   "cell_type": "code",
   "execution_count": null,
   "id": "b94b93a4",
   "metadata": {},
   "outputs": [],
   "source": [
    "lr.iloc[0, [0]]"
   ]
  },
  {
   "cell_type": "code",
   "execution_count": null,
   "id": "166fb96e",
   "metadata": {},
   "outputs": [],
   "source": [
    "yyyy = range(len(lr.index))\n",
    "plt.scatter(lr['Шаг нашивки'], lr.index)\n",
    "plt.show()"
   ]
  },
  {
   "cell_type": "code",
   "execution_count": null,
   "id": "0b546af1",
   "metadata": {},
   "outputs": [],
   "source": [
    "y"
   ]
  },
  {
   "cell_type": "code",
   "execution_count": null,
   "id": "aa873c8a",
   "metadata": {},
   "outputs": [],
   "source": [
    "dassss = issl(df_minmax_scaler[data_col], df_minmax_scaler[target_col], KNeighborsRegressor(n_neighbors=3))\n",
    "dassss.head(1)"
   ]
  },
  {
   "cell_type": "code",
   "execution_count": null,
   "id": "1250624f",
   "metadata": {},
   "outputs": [],
   "source": [
    "dassss['Прочность при растяжении, МПа'].max()"
   ]
  },
  {
   "cell_type": "code",
   "execution_count": null,
   "id": "317697f7",
   "metadata": {},
   "outputs": [],
   "source": [
    "rd = issl(df_minmax_scaler[data_col], df_minmax_scaler[target_col], Ridge(alpha=.5))\n",
    "rd.head(1)"
   ]
  },
  {
   "cell_type": "code",
   "execution_count": null,
   "id": "ab1e53c5",
   "metadata": {},
   "outputs": [],
   "source": [
    "rd['Модуль упругости при растяжении, ГПа///Прочность при растяжении, МПа'].max()"
   ]
  },
  {
   "cell_type": "code",
   "execution_count": null,
   "id": "2cb6d623",
   "metadata": {},
   "outputs": [],
   "source": [
    "# reg = Ridge(alpha=.5)\n",
    "# reg = LinearRegression()\n",
    "#reg.coef_\n",
    "X_reg_train = [[0, 0], [1, 1], [2, 2], [2, 4], [5, 5]]\n",
    "y_reg_train = [0, 1, 2, 3, 10]\n",
    "X_reg_test = [[0, 0], [1, 1], [2, 2], [2, 4], [5, 5]]\n",
    "y_reg_test = [0, 1, 2, 3, 10]\n",
    "reg = Perceptron(fit_intercept=False, max_iter=10, tol=None, shuffle=False)\n",
    "reg.fit(X_reg_train, y_reg_train)\n",
    "reg_score = reg.score(X_reg_test, y_reg_test)"
   ]
  },
  {
   "cell_type": "code",
   "execution_count": null,
   "id": "b03735f7",
   "metadata": {},
   "outputs": [],
   "source": [
    "reg_score"
   ]
  },
  {
   "cell_type": "code",
   "execution_count": null,
   "id": "2f599b26",
   "metadata": {},
   "outputs": [],
   "source": [
    "plt.scatter(y_reg_test, y_reg_train)\n",
    "plt.show()"
   ]
  },
  {
   "cell_type": "code",
   "execution_count": null,
   "id": "ebe7bad4",
   "metadata": {},
   "outputs": [],
   "source": [
    "lr.to_csv('matrix4.csv')"
   ]
  },
  {
   "cell_type": "code",
   "execution_count": null,
   "id": "af650cd3",
   "metadata": {},
   "outputs": [],
   "source": [
    "matr = pd.DataFrame()\n",
    "matr['Rows'] = np.nan\n",
    "#matr.loc['Rowsss'] = ''\n",
    "#matr.loc[['Rowsss'], ['Test1']] = 12\n",
    "#matr.loc['Rowsss'] = ''\n",
    "#matr.loc[['Rowsss'], ['Test12']] = 13\n",
    "matr.head(5)"
   ]
  },
  {
   "cell_type": "code",
   "execution_count": null,
   "id": "04fdecb8",
   "metadata": {},
   "outputs": [],
   "source": [
    "X = df_minmax_scaler[data_col] #[col]\n",
    "X"
   ]
  },
  {
   "cell_type": "code",
   "execution_count": null,
   "id": "9e0352d7",
   "metadata": {},
   "outputs": [],
   "source": [
    "y = df_minmax_scaler[target_col] #'Угол нашивки, град'\n",
    "y"
   ]
  },
  {
   "cell_type": "code",
   "execution_count": null,
   "id": "f6ba735c",
   "metadata": {},
   "outputs": [],
   "source": [
    "X_train, X_test, y_train, y_test = train_test_split(X, y, train_size=0.67, random_state=42)"
   ]
  },
  {
   "cell_type": "code",
   "execution_count": null,
   "id": "2c3e3703",
   "metadata": {},
   "outputs": [],
   "source": []
  },
  {
   "cell_type": "code",
   "execution_count": null,
   "id": "9ca856f8",
   "metadata": {},
   "outputs": [],
   "source": [
    "knn = KNeighborsClassifier(n_neighbors=16)\n",
    "knn.fit(X_train, y_train)\n",
    "print(knn.score(X_test, y_test))"
   ]
  },
  {
   "cell_type": "code",
   "execution_count": null,
   "id": "ca483cf2",
   "metadata": {},
   "outputs": [],
   "source": [
    "neigh = KNeighborsRegressor(n_neighbors=2)\n",
    "neigh.fit(X_train, y_train)\n",
    "print(neigh.score(X_test, y_test))"
   ]
  },
  {
   "cell_type": "code",
   "execution_count": null,
   "id": "168576fb",
   "metadata": {},
   "outputs": [],
   "source": [
    "dtc = DecisionTreeClassifier()\n",
    "dtc.fit(X_train, y_train)\n",
    "print(dtc.score(X_test, y_test))"
   ]
  },
  {
   "cell_type": "code",
   "execution_count": null,
   "id": "5152c923",
   "metadata": {},
   "outputs": [],
   "source": [
    "plt.figure(figsize=(20,50))\n",
    "tree.plot_tree(dtc, feature_names=X.columns);"
   ]
  },
  {
   "cell_type": "code",
   "execution_count": null,
   "id": "1705657d",
   "metadata": {},
   "outputs": [],
   "source": [
    "dtr = DecisionTreeRegressor()\n",
    "dtr.fit(X_train, y_train)\n",
    "print(dtr.score(X_test, y_test))"
   ]
  },
  {
   "cell_type": "code",
   "execution_count": null,
   "id": "735cc10b",
   "metadata": {},
   "outputs": [],
   "source": [
    "plt.figure(figsize=(20,20))\n",
    "tree.plot_tree(dtr, feature_names=X.columns);"
   ]
  },
  {
   "cell_type": "code",
   "execution_count": null,
   "id": "aae638ed",
   "metadata": {},
   "outputs": [],
   "source": [
    "#KNeighborsRegressor()\n",
    "bagging = BaggingRegressor(DecisionTreeRegressor(max_depth=4), max_samples=0.67, max_features=0.33).fit(X_train, y_train)"
   ]
  },
  {
   "cell_type": "code",
   "execution_count": null,
   "id": "d6fc2779",
   "metadata": {},
   "outputs": [],
   "source": [
    "bagging.score(X_test, y_test)"
   ]
  },
  {
   "cell_type": "code",
   "execution_count": null,
   "id": "63cfa707",
   "metadata": {},
   "outputs": [],
   "source": [
    "rng = np.random.RandomState(1)\n",
    "clf = AdaBoostRegressor(DecisionTreeRegressor(max_depth=4), n_estimators=100, random_state=rng).fit(X_train, y_train)"
   ]
  },
  {
   "cell_type": "code",
   "execution_count": null,
   "id": "99028ac0",
   "metadata": {},
   "outputs": [],
   "source": [
    "clf.score(X_test, y_test)"
   ]
  },
  {
   "cell_type": "code",
   "execution_count": null,
   "id": "c16cae98",
   "metadata": {},
   "outputs": [],
   "source": []
  }
 ],
 "metadata": {
  "kernelspec": {
   "display_name": "Python 3 (ipykernel)",
   "language": "python",
   "name": "python3"
  },
  "language_info": {
   "codemirror_mode": {
    "name": "ipython",
    "version": 3
   },
   "file_extension": ".py",
   "mimetype": "text/x-python",
   "name": "python",
   "nbconvert_exporter": "python",
   "pygments_lexer": "ipython3",
   "version": "3.8.8"
  }
 },
 "nbformat": 4,
 "nbformat_minor": 5
}
